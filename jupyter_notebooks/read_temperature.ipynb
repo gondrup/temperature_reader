{
 "cells": [
  {
   "cell_type": "code",
   "execution_count": 8,
   "metadata": {},
   "outputs": [],
   "source": [
    "from sys import path\n",
    "path.append('/home/pi/temperature_reader')\n",
    "from PIL import Image\n",
    "from tempocr.digit_recognition import read_temperature"
   ]
  },
  {
   "cell_type": "code",
   "execution_count": 9,
   "metadata": {},
   "outputs": [
    {
     "name": "stdout",
     "output_type": "stream",
     "text": [
      "Read Temperature\n",
      "----------------\n",
      "Input file: ../test_images/auto_2018-01-29_141232_fixed.png\n",
      "\n",
      "Temperature: 22.7\n"
     ]
    }
   ],
   "source": [
    "image_file = '../test_images/auto_2018-01-29_141232_fixed.png'\n",
    "#image_file = 'test_images/20180206_153314_scaled_down_fixed.png'\n",
    "\n",
    "print('Read Temperature')\n",
    "print('----------------')\n",
    "print('Input file: {}'.format(image_file))\n",
    "print('')\n",
    "\n",
    "im = Image.open(image_file)\n",
    "temperature = read_temperature(im)\n",
    "\n",
    "print('Temperature: {}'.format(temperature))"
   ]
  },
  {
   "cell_type": "code",
   "execution_count": null,
   "metadata": {},
   "outputs": [],
   "source": []
  }
 ],
 "metadata": {
  "kernelspec": {
   "display_name": "cv",
   "language": "python",
   "name": "cv"
  },
  "language_info": {
   "codemirror_mode": {
    "name": "ipython",
    "version": 3
   },
   "file_extension": ".py",
   "mimetype": "text/x-python",
   "name": "python",
   "nbconvert_exporter": "python",
   "pygments_lexer": "ipython3",
   "version": "3.5.3"
  }
 },
 "nbformat": 4,
 "nbformat_minor": 2
}
